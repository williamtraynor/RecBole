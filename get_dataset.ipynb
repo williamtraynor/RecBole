{
 "cells": [
  {
   "cell_type": "code",
   "execution_count": 2,
   "metadata": {},
   "outputs": [],
   "source": [
    "import numpy as np\n",
    "import pandas as pd\n",
    "import matplotlib.pyplot as plt\n",
    "import requests\n",
    "from io import BytesIO\n",
    "from zipfile import ZipFile\n",
    "from urllib.request import urlopen\n",
    "import bz2\n",
    "# or: requests.get(url).content\n",
    "\n",
    "#myzip = ZipFile(BytesIO(resp.read()))\n",
    "##resp = urlopen(\"http://www.test.com/file.zip\")\n",
    "#for line in myzip.open(file).readlines():\n",
    "#    print(line.decode('utf-8'))"
   ]
  },
  {
   "cell_type": "code",
   "execution_count": 5,
   "metadata": {},
   "outputs": [
    {
     "data": {
      "text/plain": [
       "11089302261"
      ]
     },
     "execution_count": 5,
     "metadata": {},
     "output_type": "execute_result"
    }
   ],
   "source": [
    "interactions_url = 'https://zenodo.org/record/6609677/files/userid_trackid_timestamp.tsv.bz2?download=1'\n",
    "\n",
    "compressed = requests.get(interactions_url).content\n",
    "\n",
    "data = bz2.decompress(compressed)\n",
    "\n",
    "open('userid_trackid_timestamp.tsv', 'wb').write(data)"
   ]
  },
  {
   "cell_type": "code",
   "execution_count": 6,
   "metadata": {},
   "outputs": [
    {
     "name": "stdout",
     "output_type": "stream",
     "text": [
      "\n",
      "Music4All 10K Interactions Stats\n",
      "\n",
      "    |Users\t| Items\t\t| Interactions\t| Average Length\t| Median Length\t| Sparsity\t|\n",
      "    -----------------------------------------------------------------------------------------------------\n",
      "    |17  \t| 2512\t\t| 10000\t| 588\t\t\t| 370\t\t| 93.37\t\t|\n",
      "    \n",
      "    \n"
     ]
    },
    {
     "ename": "OSError",
     "evalue": "Cannot save file into a non-existent directory: 'datasets'",
     "output_type": "error",
     "traceback": [
      "\u001b[0;31m---------------------------------------------------------------------------\u001b[0m",
      "\u001b[0;31mOSError\u001b[0m                                   Traceback (most recent call last)",
      "Cell \u001b[0;32mIn [6], line 94\u001b[0m\n\u001b[1;32m     81\u001b[0m \u001b[39m#data = read_music4all(chunksize=10**5, listen_cap=100, play_cap=100)\u001b[39;00m\n\u001b[1;32m     82\u001b[0m \u001b[39m#format_for_recbole(data)\u001b[39;00m\n\u001b[1;32m     83\u001b[0m \n\u001b[0;32m   (...)\u001b[0m\n\u001b[1;32m     90\u001b[0m \u001b[39m#data = read_music4all(chunksize=10**8, listen_cap=100, play_cap=100)\u001b[39;00m\n\u001b[1;32m     91\u001b[0m \u001b[39m#format_for_recbole(data)\u001b[39;00m\n\u001b[1;32m     93\u001b[0m data \u001b[39m=\u001b[39m read_music4all(chunksize\u001b[39m=\u001b[39m\u001b[39m10\u001b[39m\u001b[39m*\u001b[39m\u001b[39m*\u001b[39m\u001b[39m4\u001b[39m)\n\u001b[0;32m---> 94\u001b[0m format_for_recbole(data)\n",
      "Cell \u001b[0;32mIn [6], line 73\u001b[0m, in \u001b[0;36mformat_for_recbole\u001b[0;34m(data)\u001b[0m\n\u001b[1;32m     71\u001b[0m size \u001b[39m=\u001b[39m \u001b[39mlen\u001b[39m(new_data)\n\u001b[1;32m     72\u001b[0m \u001b[39mif\u001b[39;00m size \u001b[39m<\u001b[39m \u001b[39m10\u001b[39m\u001b[39m*\u001b[39m\u001b[39m*\u001b[39m\u001b[39m6\u001b[39m:\n\u001b[0;32m---> 73\u001b[0m     new_data\u001b[39m.\u001b[39;49mto_csv(\u001b[39mf\u001b[39;49m\u001b[39m'\u001b[39;49m\u001b[39mdatasets/music4all_\u001b[39;49m\u001b[39m{\u001b[39;49;00msize\u001b[39m/\u001b[39;49m\u001b[39m/\u001b[39;49m\u001b[39m10\u001b[39;49m\u001b[39m*\u001b[39;49m\u001b[39m*\u001b[39;49m\u001b[39m3\u001b[39;49m\u001b[39m}\u001b[39;49;00m\u001b[39mk.inter\u001b[39;49m\u001b[39m'\u001b[39;49m ,sep\u001b[39m=\u001b[39;49m\u001b[39m'\u001b[39;49m\u001b[39m\\t\u001b[39;49;00m\u001b[39m'\u001b[39;49m, index\u001b[39m=\u001b[39;49m\u001b[39mFalse\u001b[39;49;00m)\n\u001b[1;32m     74\u001b[0m     new_data[\u001b[39m'\u001b[39m\u001b[39muser_id:token\u001b[39m\u001b[39m'\u001b[39m]\u001b[39m.\u001b[39mto_csv(\u001b[39mf\u001b[39m\u001b[39m'\u001b[39m\u001b[39mdatasets/music4all_\u001b[39m\u001b[39m{\u001b[39;00msize\u001b[39m/\u001b[39m\u001b[39m/\u001b[39m\u001b[39m10\u001b[39m\u001b[39m*\u001b[39m\u001b[39m*\u001b[39m\u001b[39m3\u001b[39m\u001b[39m}\u001b[39;00m\u001b[39mk.user\u001b[39m\u001b[39m'\u001b[39m ,sep\u001b[39m=\u001b[39m\u001b[39m'\u001b[39m\u001b[39m\\t\u001b[39;00m\u001b[39m'\u001b[39m, index\u001b[39m=\u001b[39m\u001b[39mFalse\u001b[39;00m)\n\u001b[1;32m     75\u001b[0m     new_data[\u001b[39m'\u001b[39m\u001b[39mtrack_id:token\u001b[39m\u001b[39m'\u001b[39m]\u001b[39m.\u001b[39mto_csv(\u001b[39mf\u001b[39m\u001b[39m'\u001b[39m\u001b[39mdatasets/music4all_\u001b[39m\u001b[39m{\u001b[39;00msize\u001b[39m/\u001b[39m\u001b[39m/\u001b[39m\u001b[39m10\u001b[39m\u001b[39m*\u001b[39m\u001b[39m*\u001b[39m\u001b[39m3\u001b[39m\u001b[39m}\u001b[39;00m\u001b[39mk.item\u001b[39m\u001b[39m'\u001b[39m ,sep\u001b[39m=\u001b[39m\u001b[39m'\u001b[39m\u001b[39m\\t\u001b[39;00m\u001b[39m'\u001b[39m, index\u001b[39m=\u001b[39m\u001b[39mFalse\u001b[39;00m)\n",
      "File \u001b[0;32m/usr/local/lib/python3.10/site-packages/pandas/util/_decorators.py:211\u001b[0m, in \u001b[0;36mdeprecate_kwarg.<locals>._deprecate_kwarg.<locals>.wrapper\u001b[0;34m(*args, **kwargs)\u001b[0m\n\u001b[1;32m    209\u001b[0m     \u001b[39melse\u001b[39;00m:\n\u001b[1;32m    210\u001b[0m         kwargs[new_arg_name] \u001b[39m=\u001b[39m new_arg_value\n\u001b[0;32m--> 211\u001b[0m \u001b[39mreturn\u001b[39;00m func(\u001b[39m*\u001b[39;49margs, \u001b[39m*\u001b[39;49m\u001b[39m*\u001b[39;49mkwargs)\n",
      "File \u001b[0;32m/usr/local/lib/python3.10/site-packages/pandas/core/generic.py:3720\u001b[0m, in \u001b[0;36mNDFrame.to_csv\u001b[0;34m(self, path_or_buf, sep, na_rep, float_format, columns, header, index, index_label, mode, encoding, compression, quoting, quotechar, lineterminator, chunksize, date_format, doublequote, escapechar, decimal, errors, storage_options)\u001b[0m\n\u001b[1;32m   3709\u001b[0m df \u001b[39m=\u001b[39m \u001b[39mself\u001b[39m \u001b[39mif\u001b[39;00m \u001b[39misinstance\u001b[39m(\u001b[39mself\u001b[39m, ABCDataFrame) \u001b[39melse\u001b[39;00m \u001b[39mself\u001b[39m\u001b[39m.\u001b[39mto_frame()\n\u001b[1;32m   3711\u001b[0m formatter \u001b[39m=\u001b[39m DataFrameFormatter(\n\u001b[1;32m   3712\u001b[0m     frame\u001b[39m=\u001b[39mdf,\n\u001b[1;32m   3713\u001b[0m     header\u001b[39m=\u001b[39mheader,\n\u001b[0;32m   (...)\u001b[0m\n\u001b[1;32m   3717\u001b[0m     decimal\u001b[39m=\u001b[39mdecimal,\n\u001b[1;32m   3718\u001b[0m )\n\u001b[0;32m-> 3720\u001b[0m \u001b[39mreturn\u001b[39;00m DataFrameRenderer(formatter)\u001b[39m.\u001b[39;49mto_csv(\n\u001b[1;32m   3721\u001b[0m     path_or_buf,\n\u001b[1;32m   3722\u001b[0m     lineterminator\u001b[39m=\u001b[39;49mlineterminator,\n\u001b[1;32m   3723\u001b[0m     sep\u001b[39m=\u001b[39;49msep,\n\u001b[1;32m   3724\u001b[0m     encoding\u001b[39m=\u001b[39;49mencoding,\n\u001b[1;32m   3725\u001b[0m     errors\u001b[39m=\u001b[39;49merrors,\n\u001b[1;32m   3726\u001b[0m     compression\u001b[39m=\u001b[39;49mcompression,\n\u001b[1;32m   3727\u001b[0m     quoting\u001b[39m=\u001b[39;49mquoting,\n\u001b[1;32m   3728\u001b[0m     columns\u001b[39m=\u001b[39;49mcolumns,\n\u001b[1;32m   3729\u001b[0m     index_label\u001b[39m=\u001b[39;49mindex_label,\n\u001b[1;32m   3730\u001b[0m     mode\u001b[39m=\u001b[39;49mmode,\n\u001b[1;32m   3731\u001b[0m     chunksize\u001b[39m=\u001b[39;49mchunksize,\n\u001b[1;32m   3732\u001b[0m     quotechar\u001b[39m=\u001b[39;49mquotechar,\n\u001b[1;32m   3733\u001b[0m     date_format\u001b[39m=\u001b[39;49mdate_format,\n\u001b[1;32m   3734\u001b[0m     doublequote\u001b[39m=\u001b[39;49mdoublequote,\n\u001b[1;32m   3735\u001b[0m     escapechar\u001b[39m=\u001b[39;49mescapechar,\n\u001b[1;32m   3736\u001b[0m     storage_options\u001b[39m=\u001b[39;49mstorage_options,\n\u001b[1;32m   3737\u001b[0m )\n",
      "File \u001b[0;32m/usr/local/lib/python3.10/site-packages/pandas/util/_decorators.py:211\u001b[0m, in \u001b[0;36mdeprecate_kwarg.<locals>._deprecate_kwarg.<locals>.wrapper\u001b[0;34m(*args, **kwargs)\u001b[0m\n\u001b[1;32m    209\u001b[0m     \u001b[39melse\u001b[39;00m:\n\u001b[1;32m    210\u001b[0m         kwargs[new_arg_name] \u001b[39m=\u001b[39m new_arg_value\n\u001b[0;32m--> 211\u001b[0m \u001b[39mreturn\u001b[39;00m func(\u001b[39m*\u001b[39;49margs, \u001b[39m*\u001b[39;49m\u001b[39m*\u001b[39;49mkwargs)\n",
      "File \u001b[0;32m/usr/local/lib/python3.10/site-packages/pandas/io/formats/format.py:1189\u001b[0m, in \u001b[0;36mDataFrameRenderer.to_csv\u001b[0;34m(self, path_or_buf, encoding, sep, columns, index_label, mode, compression, quoting, quotechar, lineterminator, chunksize, date_format, doublequote, escapechar, errors, storage_options)\u001b[0m\n\u001b[1;32m   1168\u001b[0m     created_buffer \u001b[39m=\u001b[39m \u001b[39mFalse\u001b[39;00m\n\u001b[1;32m   1170\u001b[0m csv_formatter \u001b[39m=\u001b[39m CSVFormatter(\n\u001b[1;32m   1171\u001b[0m     path_or_buf\u001b[39m=\u001b[39mpath_or_buf,\n\u001b[1;32m   1172\u001b[0m     lineterminator\u001b[39m=\u001b[39mlineterminator,\n\u001b[0;32m   (...)\u001b[0m\n\u001b[1;32m   1187\u001b[0m     formatter\u001b[39m=\u001b[39m\u001b[39mself\u001b[39m\u001b[39m.\u001b[39mfmt,\n\u001b[1;32m   1188\u001b[0m )\n\u001b[0;32m-> 1189\u001b[0m csv_formatter\u001b[39m.\u001b[39;49msave()\n\u001b[1;32m   1191\u001b[0m \u001b[39mif\u001b[39;00m created_buffer:\n\u001b[1;32m   1192\u001b[0m     \u001b[39massert\u001b[39;00m \u001b[39misinstance\u001b[39m(path_or_buf, StringIO)\n",
      "File \u001b[0;32m/usr/local/lib/python3.10/site-packages/pandas/io/formats/csvs.py:241\u001b[0m, in \u001b[0;36mCSVFormatter.save\u001b[0;34m(self)\u001b[0m\n\u001b[1;32m    237\u001b[0m \u001b[39m\"\"\"\u001b[39;00m\n\u001b[1;32m    238\u001b[0m \u001b[39mCreate the writer & save.\u001b[39;00m\n\u001b[1;32m    239\u001b[0m \u001b[39m\"\"\"\u001b[39;00m\n\u001b[1;32m    240\u001b[0m \u001b[39m# apply compression and byte/text conversion\u001b[39;00m\n\u001b[0;32m--> 241\u001b[0m \u001b[39mwith\u001b[39;00m get_handle(\n\u001b[1;32m    242\u001b[0m     \u001b[39mself\u001b[39;49m\u001b[39m.\u001b[39;49mfilepath_or_buffer,\n\u001b[1;32m    243\u001b[0m     \u001b[39mself\u001b[39;49m\u001b[39m.\u001b[39;49mmode,\n\u001b[1;32m    244\u001b[0m     encoding\u001b[39m=\u001b[39;49m\u001b[39mself\u001b[39;49m\u001b[39m.\u001b[39;49mencoding,\n\u001b[1;32m    245\u001b[0m     errors\u001b[39m=\u001b[39;49m\u001b[39mself\u001b[39;49m\u001b[39m.\u001b[39;49merrors,\n\u001b[1;32m    246\u001b[0m     compression\u001b[39m=\u001b[39;49m\u001b[39mself\u001b[39;49m\u001b[39m.\u001b[39;49mcompression,\n\u001b[1;32m    247\u001b[0m     storage_options\u001b[39m=\u001b[39;49m\u001b[39mself\u001b[39;49m\u001b[39m.\u001b[39;49mstorage_options,\n\u001b[1;32m    248\u001b[0m ) \u001b[39mas\u001b[39;00m handles:\n\u001b[1;32m    249\u001b[0m \n\u001b[1;32m    250\u001b[0m     \u001b[39m# Note: self.encoding is irrelevant here\u001b[39;00m\n\u001b[1;32m    251\u001b[0m     \u001b[39mself\u001b[39m\u001b[39m.\u001b[39mwriter \u001b[39m=\u001b[39m csvlib\u001b[39m.\u001b[39mwriter(\n\u001b[1;32m    252\u001b[0m         handles\u001b[39m.\u001b[39mhandle,\n\u001b[1;32m    253\u001b[0m         lineterminator\u001b[39m=\u001b[39m\u001b[39mself\u001b[39m\u001b[39m.\u001b[39mlineterminator,\n\u001b[0;32m   (...)\u001b[0m\n\u001b[1;32m    258\u001b[0m         quotechar\u001b[39m=\u001b[39m\u001b[39mself\u001b[39m\u001b[39m.\u001b[39mquotechar,\n\u001b[1;32m    259\u001b[0m     )\n\u001b[1;32m    261\u001b[0m     \u001b[39mself\u001b[39m\u001b[39m.\u001b[39m_save()\n",
      "File \u001b[0;32m/usr/local/lib/python3.10/site-packages/pandas/io/common.py:734\u001b[0m, in \u001b[0;36mget_handle\u001b[0;34m(path_or_buf, mode, encoding, compression, memory_map, is_text, errors, storage_options)\u001b[0m\n\u001b[1;32m    732\u001b[0m \u001b[39m# Only for write methods\u001b[39;00m\n\u001b[1;32m    733\u001b[0m \u001b[39mif\u001b[39;00m \u001b[39m\"\u001b[39m\u001b[39mr\u001b[39m\u001b[39m\"\u001b[39m \u001b[39mnot\u001b[39;00m \u001b[39min\u001b[39;00m mode \u001b[39mand\u001b[39;00m is_path:\n\u001b[0;32m--> 734\u001b[0m     check_parent_directory(\u001b[39mstr\u001b[39;49m(handle))\n\u001b[1;32m    736\u001b[0m \u001b[39mif\u001b[39;00m compression:\n\u001b[1;32m    737\u001b[0m     \u001b[39mif\u001b[39;00m compression \u001b[39m!=\u001b[39m \u001b[39m\"\u001b[39m\u001b[39mzstd\u001b[39m\u001b[39m\"\u001b[39m:\n\u001b[1;32m    738\u001b[0m         \u001b[39m# compression libraries do not like an explicit text-mode\u001b[39;00m\n",
      "File \u001b[0;32m/usr/local/lib/python3.10/site-packages/pandas/io/common.py:597\u001b[0m, in \u001b[0;36mcheck_parent_directory\u001b[0;34m(path)\u001b[0m\n\u001b[1;32m    595\u001b[0m parent \u001b[39m=\u001b[39m Path(path)\u001b[39m.\u001b[39mparent\n\u001b[1;32m    596\u001b[0m \u001b[39mif\u001b[39;00m \u001b[39mnot\u001b[39;00m parent\u001b[39m.\u001b[39mis_dir():\n\u001b[0;32m--> 597\u001b[0m     \u001b[39mraise\u001b[39;00m \u001b[39mOSError\u001b[39;00m(\u001b[39mrf\u001b[39m\u001b[39m\"\u001b[39m\u001b[39mCannot save file into a non-existent directory: \u001b[39m\u001b[39m'\u001b[39m\u001b[39m{\u001b[39;00mparent\u001b[39m}\u001b[39;00m\u001b[39m'\u001b[39m\u001b[39m\"\u001b[39m)\n",
      "\u001b[0;31mOSError\u001b[0m: Cannot save file into a non-existent directory: 'datasets'"
     ]
    }
   ],
   "source": [
    "def get_dataset_stats(data, listen_cap, play_cap):\n",
    "\n",
    "    user_actions = data.groupby(['user_id']).count()['track_id']\n",
    "    item_plays = data.groupby(['track_id']).count()['user_id']\n",
    "\n",
    "    num_users = len(data['user_id'].unique())\n",
    "    num_tracks = len(data['track_id'].unique())\n",
    "\n",
    "    unique_actions = data[['user_id', 'track_id']].drop_duplicates()\n",
    "\n",
    "    unique_sparsity = 100 * (1 - round( (len(unique_actions)/(num_users * num_tracks)) , 4))\n",
    "    sparsity = 100 * (1 - round( (len(data)/(num_users * num_tracks)) , 4))\n",
    "\n",
    "    #------------------------------------------------------------------------------\n",
    "    \"\"\"\n",
    "    print(f'''\n",
    "    Interactions: {len(data)}\n",
    "    Unique Interactions: {len(unique_actions)}\n",
    "    Num Users: {num_users}\n",
    "    Num Tracks: {num_tracks}\n",
    "    Earliest Interaction: {max(data.timestamp)}\n",
    "    Latest Interaction: {min(data.timestamp)}\n",
    "    \n",
    "    There are {len(user_actions)} users.\n",
    "    There are {sum(user_actions<listen_cap)} users with less than {listen_cap} listens\n",
    "    Each user has an average of {int(np.mean(user_actions))} listens.\n",
    "\n",
    "    There are {len(item_plays)} tracks.\n",
    "    Each track has an average of {int(np.mean(item_plays))} plays.\n",
    "    Unique Interaction Data Sparsity: {unique_sparsity}%\n",
    "    Sparsity with Repeated Interactions: {sparsity}%\n",
    "\n",
    "    ''')\n",
    "    \"\"\"\n",
    "\n",
    "    #------------------------------------------------------------------------------\n",
    "    # MAIN STATISTICS\n",
    "\n",
    "    size = len(data)\n",
    "\n",
    "    if size < 10**6:\n",
    "        print(f'\\nMusic4All {len(data)//10**3}K Interactions Stats')\n",
    "    else:\n",
    "        print(f'\\nMusic4All {len(data)//10**6}M Interactions Stats')\n",
    "        \n",
    "\n",
    "    print(f'''\n",
    "    |Users\\t| Items\\t\\t| Interactions\\t| Average Length\\t| Median Length\\t| Sparsity\\t|\n",
    "    -----------------------------------------------------------------------------------------------------\n",
    "    |{num_users}  \\t| {num_tracks}\\t\\t| {len(data)}\\t| {np.mean(user_actions).astype(int)}\\t\\t\\t| {np.median(user_actions).astype(int)}\\t\\t| {round(unique_sparsity,2)}\\t\\t|\n",
    "    \n",
    "    ''')\n",
    "\n",
    "def read_music4all(chunksize=False, listen_cap=100, play_cap=100):\n",
    "\n",
    "    if chunksize:\n",
    "        for chunk in pd.read_csv('userid_trackid_timestamp.tsv', sep='\\t', chunksize=chunksize, parse_dates=True):\n",
    "            get_dataset_stats(chunk, listen_cap, play_cap)\n",
    "            return chunk\n",
    "    else:\n",
    "        data = pd.read_csv('userid_trackid_timestamp.tsv', sep='\\t', parse_dates=True)\n",
    "        get_dataset_stats(data, listen_cap, play_cap)\n",
    "        return data\n",
    "\n",
    "def format_for_recbole(data):\n",
    "\n",
    "    new_data = data.copy()\n",
    "    new_data.timestamp = pd.to_datetime(data.timestamp).astype(int) / 10**9\n",
    "    new_data.columns = ['user_id:token', 'track_id:token', 'timestamp:float']\n",
    "\n",
    "    size = len(new_data)\n",
    "    if size < 10**6:\n",
    "        new_data.to_csv(f'datasets/music4all_{size//10**3}k.inter' ,sep='\\t', index=False)\n",
    "        new_data['user_id:token'].to_csv(f'datasets/music4all_{size//10**3}k.user' ,sep='\\t', index=False)\n",
    "        new_data['track_id:token'].to_csv(f'datasets/music4all_{size//10**3}k.item' ,sep='\\t', index=False)\n",
    "    else:\n",
    "        new_data.to_csv(f'datasets/music4all_{size//10**6}M.inter' ,sep='\\t', index=False)\n",
    "        new_data['user_id:token'].to_csv(f'datasets/music4all_{size//10**6}M.user' ,sep='\\t', index=False)\n",
    "        new_data['track_id:token'].to_csv(f'datasets/music4all_{size//10**6}M.item' ,sep='\\t', index=False)\n",
    "    \n",
    "#data = read_music4all(chunksize=10**5, listen_cap=100, play_cap=100)\n",
    "#format_for_recbole(data)\n",
    "\n",
    "#data = read_music4all(chunksize=10**6, listen_cap=100, play_cap=100)\n",
    "#format_for_recbole(data)\n",
    "\n",
    "#data = read_music4all(chunksize=10**7, listen_cap=100, play_cap=100)\n",
    "#format_for_recbole(data)\n",
    "\n",
    "#data = read_music4all(chunksize=10**8, listen_cap=100, play_cap=100)\n",
    "#format_for_recbole(data)\n",
    "\n",
    "data = read_music4all(chunksize=10**4)\n",
    "format_for_recbole(data)"
   ]
  },
  {
   "cell_type": "code",
   "execution_count": 82,
   "metadata": {},
   "outputs": [
    {
     "ename": "KeyboardInterrupt",
     "evalue": "",
     "output_type": "error",
     "traceback": [
      "\u001b[0;31m---------------------------------------------------------------------------\u001b[0m",
      "\u001b[0;31mKeyboardInterrupt\u001b[0m                         Traceback (most recent call last)",
      "Cell \u001b[0;32mIn [82], line 14\u001b[0m\n\u001b[1;32m     10\u001b[0m     \u001b[39melse\u001b[39;00m:\n\u001b[1;32m     11\u001b[0m         new_data\u001b[39m.\u001b[39mto_csv(\u001b[39mf\u001b[39m\u001b[39m'\u001b[39m\u001b[39mmusic4all_\u001b[39m\u001b[39m{\u001b[39;00msize\u001b[39m/\u001b[39m\u001b[39m/\u001b[39m\u001b[39m10\u001b[39m\u001b[39m*\u001b[39m\u001b[39m*\u001b[39m\u001b[39m6\u001b[39m\u001b[39m}\u001b[39;00m\u001b[39mM.inter\u001b[39m\u001b[39m'\u001b[39m ,sep\u001b[39m=\u001b[39m\u001b[39m'\u001b[39m\u001b[39m\\t\u001b[39;00m\u001b[39m'\u001b[39m, index\u001b[39m=\u001b[39m\u001b[39mFalse\u001b[39;00m)\n\u001b[0;32m---> 14\u001b[0m format_for_recbole(data)\n",
      "Cell \u001b[0;32mIn [82], line 4\u001b[0m, in \u001b[0;36mformat_for_recbole\u001b[0;34m(data)\u001b[0m\n\u001b[1;32m      1\u001b[0m \u001b[39mdef\u001b[39;00m \u001b[39mformat_for_recbole\u001b[39m(data):\n\u001b[1;32m      3\u001b[0m     new_data \u001b[39m=\u001b[39m data\u001b[39m.\u001b[39mcopy()\n\u001b[0;32m----> 4\u001b[0m     new_data\u001b[39m.\u001b[39mtimestamp \u001b[39m=\u001b[39m pd\u001b[39m.\u001b[39;49mto_datetime(data\u001b[39m.\u001b[39;49mtimestamp)\u001b[39m.\u001b[39mastype(\u001b[39mint\u001b[39m) \u001b[39m/\u001b[39m \u001b[39m10\u001b[39m\u001b[39m*\u001b[39m\u001b[39m*\u001b[39m\u001b[39m9\u001b[39m\n\u001b[1;32m      5\u001b[0m     new_data\u001b[39m.\u001b[39mcolumns \u001b[39m=\u001b[39m [\u001b[39m'\u001b[39m\u001b[39muser_id:token\u001b[39m\u001b[39m'\u001b[39m, \u001b[39m'\u001b[39m\u001b[39mtrack_id:token\u001b[39m\u001b[39m'\u001b[39m, \u001b[39m'\u001b[39m\u001b[39mtimestamp:float\u001b[39m\u001b[39m'\u001b[39m]\n\u001b[1;32m      7\u001b[0m     size \u001b[39m=\u001b[39m \u001b[39mlen\u001b[39m(new_data)\n",
      "File \u001b[0;32m/usr/local/lib/python3.10/site-packages/pandas/core/tools/datetimes.py:1068\u001b[0m, in \u001b[0;36mto_datetime\u001b[0;34m(arg, errors, dayfirst, yearfirst, utc, format, exact, unit, infer_datetime_format, origin, cache)\u001b[0m\n\u001b[1;32m   1066\u001b[0m         result \u001b[39m=\u001b[39m arg\u001b[39m.\u001b[39mmap(cache_array)\n\u001b[1;32m   1067\u001b[0m     \u001b[39melse\u001b[39;00m:\n\u001b[0;32m-> 1068\u001b[0m         values \u001b[39m=\u001b[39m convert_listlike(arg\u001b[39m.\u001b[39;49m_values, \u001b[39mformat\u001b[39;49m)\n\u001b[1;32m   1069\u001b[0m         result \u001b[39m=\u001b[39m arg\u001b[39m.\u001b[39m_constructor(values, index\u001b[39m=\u001b[39marg\u001b[39m.\u001b[39mindex, name\u001b[39m=\u001b[39marg\u001b[39m.\u001b[39mname)\n\u001b[1;32m   1070\u001b[0m \u001b[39melif\u001b[39;00m \u001b[39misinstance\u001b[39m(arg, (ABCDataFrame, abc\u001b[39m.\u001b[39mMutableMapping)):\n",
      "File \u001b[0;32m/usr/local/lib/python3.10/site-packages/pandas/core/tools/datetimes.py:438\u001b[0m, in \u001b[0;36m_convert_listlike_datetimes\u001b[0;34m(arg, format, name, tz, unit, errors, infer_datetime_format, dayfirst, yearfirst, exact)\u001b[0m\n\u001b[1;32m    436\u001b[0m \u001b[39massert\u001b[39;00m \u001b[39mformat\u001b[39m \u001b[39mis\u001b[39;00m \u001b[39mNone\u001b[39;00m \u001b[39mor\u001b[39;00m infer_datetime_format\n\u001b[1;32m    437\u001b[0m utc \u001b[39m=\u001b[39m tz \u001b[39m==\u001b[39m \u001b[39m\"\u001b[39m\u001b[39mutc\u001b[39m\u001b[39m\"\u001b[39m\n\u001b[0;32m--> 438\u001b[0m result, tz_parsed \u001b[39m=\u001b[39m objects_to_datetime64ns(\n\u001b[1;32m    439\u001b[0m     arg,\n\u001b[1;32m    440\u001b[0m     dayfirst\u001b[39m=\u001b[39;49mdayfirst,\n\u001b[1;32m    441\u001b[0m     yearfirst\u001b[39m=\u001b[39;49myearfirst,\n\u001b[1;32m    442\u001b[0m     utc\u001b[39m=\u001b[39;49mutc,\n\u001b[1;32m    443\u001b[0m     errors\u001b[39m=\u001b[39;49merrors,\n\u001b[1;32m    444\u001b[0m     require_iso8601\u001b[39m=\u001b[39;49mrequire_iso8601,\n\u001b[1;32m    445\u001b[0m     allow_object\u001b[39m=\u001b[39;49m\u001b[39mTrue\u001b[39;49;00m,\n\u001b[1;32m    446\u001b[0m )\n\u001b[1;32m    448\u001b[0m \u001b[39mif\u001b[39;00m tz_parsed \u001b[39mis\u001b[39;00m \u001b[39mnot\u001b[39;00m \u001b[39mNone\u001b[39;00m:\n\u001b[1;32m    449\u001b[0m     \u001b[39m# We can take a shortcut since the datetime64 numpy array\u001b[39;00m\n\u001b[1;32m    450\u001b[0m     \u001b[39m# is in UTC\u001b[39;00m\n\u001b[1;32m    451\u001b[0m     dta \u001b[39m=\u001b[39m DatetimeArray(result, dtype\u001b[39m=\u001b[39mtz_to_dtype(tz_parsed))\n",
      "File \u001b[0;32m/usr/local/lib/python3.10/site-packages/pandas/core/arrays/datetimes.py:2177\u001b[0m, in \u001b[0;36mobjects_to_datetime64ns\u001b[0;34m(data, dayfirst, yearfirst, utc, errors, require_iso8601, allow_object, allow_mixed)\u001b[0m\n\u001b[1;32m   2175\u001b[0m order: Literal[\u001b[39m\"\u001b[39m\u001b[39mF\u001b[39m\u001b[39m\"\u001b[39m, \u001b[39m\"\u001b[39m\u001b[39mC\u001b[39m\u001b[39m\"\u001b[39m] \u001b[39m=\u001b[39m \u001b[39m\"\u001b[39m\u001b[39mF\u001b[39m\u001b[39m\"\u001b[39m \u001b[39mif\u001b[39;00m flags\u001b[39m.\u001b[39mf_contiguous \u001b[39melse\u001b[39;00m \u001b[39m\"\u001b[39m\u001b[39mC\u001b[39m\u001b[39m\"\u001b[39m\n\u001b[1;32m   2176\u001b[0m \u001b[39mtry\u001b[39;00m:\n\u001b[0;32m-> 2177\u001b[0m     result, tz_parsed \u001b[39m=\u001b[39m tslib\u001b[39m.\u001b[39;49marray_to_datetime(\n\u001b[1;32m   2178\u001b[0m         data\u001b[39m.\u001b[39;49mravel(\u001b[39m\"\u001b[39;49m\u001b[39mK\u001b[39;49m\u001b[39m\"\u001b[39;49m),\n\u001b[1;32m   2179\u001b[0m         errors\u001b[39m=\u001b[39;49merrors,\n\u001b[1;32m   2180\u001b[0m         utc\u001b[39m=\u001b[39;49mutc,\n\u001b[1;32m   2181\u001b[0m         dayfirst\u001b[39m=\u001b[39;49mdayfirst,\n\u001b[1;32m   2182\u001b[0m         yearfirst\u001b[39m=\u001b[39;49myearfirst,\n\u001b[1;32m   2183\u001b[0m         require_iso8601\u001b[39m=\u001b[39;49mrequire_iso8601,\n\u001b[1;32m   2184\u001b[0m         allow_mixed\u001b[39m=\u001b[39;49mallow_mixed,\n\u001b[1;32m   2185\u001b[0m     )\n\u001b[1;32m   2186\u001b[0m     result \u001b[39m=\u001b[39m result\u001b[39m.\u001b[39mreshape(data\u001b[39m.\u001b[39mshape, order\u001b[39m=\u001b[39morder)\n\u001b[1;32m   2187\u001b[0m \u001b[39mexcept\u001b[39;00m \u001b[39mOverflowError\u001b[39;00m \u001b[39mas\u001b[39;00m err:\n\u001b[1;32m   2188\u001b[0m     \u001b[39m# Exception is raised when a part of date is greater than 32 bit signed int\u001b[39;00m\n",
      "\u001b[0;31mKeyboardInterrupt\u001b[0m: "
     ]
    }
   ],
   "source": []
  },
  {
   "cell_type": "code",
   "execution_count": 78,
   "metadata": {},
   "outputs": [
    {
     "name": "stdout",
     "output_type": "stream",
     "text": [
      "There are 5 users with less than 5 interactions\n"
     ]
    }
   ],
   "source": [
    "def remove_coldstart(data, min_interactions):\n",
    "\n",
    "    user_counts = data[['user_id', 'track_id']].groupby(['user_id']).count()\n",
    "\n",
    "    cold_start_users = user_counts < min_interactions\n",
    "\n",
    "    user_id, cold_start = np.array(cold_start_users.index), np.array(cold_start_users.track_id)\n",
    "\n",
    "    normal_user_id = user_id[np.invert(cold_start)]\n",
    "\n",
    "    print(f'There are {sum(cold_start)} users with less than {min_interactions} interactions')\n",
    "\n",
    "    new_data = data[data.user_id.isin(normal_user_id)]\n",
    "\n",
    "\n",
    "no_coldstart_df = remove_coldstart(data, 5)"
   ]
  },
  {
   "attachments": {},
   "cell_type": "markdown",
   "metadata": {},
   "source": [
    "---"
   ]
  },
  {
   "cell_type": "code",
   "execution_count": 71,
   "metadata": {},
   "outputs": [
    {
     "ename": "NameError",
     "evalue": "name 'user_actions' is not defined",
     "output_type": "error",
     "traceback": [
      "\u001b[0;31m---------------------------------------------------------------------------\u001b[0m",
      "\u001b[0;31mNameError\u001b[0m                                 Traceback (most recent call last)",
      "Cell \u001b[0;32mIn [71], line 1\u001b[0m\n\u001b[0;32m----> 1\u001b[0m user_action_counts \u001b[39m=\u001b[39m \u001b[39mlist\u001b[39m(user_actions) \u001b[39m#.plot.hist()\u001b[39;00m\n\u001b[1;32m      3\u001b[0m user_action_stats \u001b[39m=\u001b[39m user_actions\u001b[39m.\u001b[39mquantile([\u001b[39m0.25\u001b[39m, \u001b[39m0.5\u001b[39m, \u001b[39m0.75\u001b[39m])\n\u001b[1;32m      5\u001b[0m \u001b[39mprint\u001b[39m(user_action_stats, np\u001b[39m.\u001b[39mmean(user_action_counts))\n",
      "\u001b[0;31mNameError\u001b[0m: name 'user_actions' is not defined"
     ]
    }
   ],
   "source": [
    "user_action_counts = list(user_actions) #.plot.hist()\n",
    "\n",
    "user_action_stats = user_actions.quantile([0.25, 0.5, 0.75])\n",
    "\n",
    "print(user_action_stats, np.mean(user_action_counts))\n",
    "\n",
    "#plt.hist(user_action_counts, bins=100, log=True)\n",
    "\n",
    "# Calculate the 95% confidence for listen counts per user.\n",
    "\n",
    "mean, std = np.mean(user_action_counts), np.std(user_action_counts)\n",
    "n = len(user_actions)\n",
    "\n",
    "print(mean, std)\n",
    "\n",
    "confidence_interval = [mean - 0.95*(std/np.sqrt(n)), mean + 0.95*(std/np.sqrt(n))]\n",
    "confidence_interval\n",
    "\n",
    "plt.hist(user_action_counts, bins=100)\n",
    "plt.xlabel('Users')\n",
    "plt.ylabel('Interactions')\n",
    "plt.semilogy()"
   ]
  },
  {
   "cell_type": "code",
   "execution_count": 10,
   "metadata": {},
   "outputs": [
    {
     "name": "stdout",
     "output_type": "stream",
     "text": [
      "[4859 3244 6060 ... 1657 3503 5168]\n"
     ]
    }
   ],
   "source": [
    "print(item_plays.values)"
   ]
  },
  {
   "cell_type": "code",
   "execution_count": 20,
   "metadata": {},
   "outputs": [
    {
     "name": "stdout",
     "output_type": "stream",
     "text": [
      "0.25     628.00\n",
      "0.50    1896.00\n",
      "0.75    4962.25\n",
      "Name: user_id, dtype: float64\n"
     ]
    },
    {
     "data": {
      "text/plain": [
       "[]"
      ]
     },
     "execution_count": 20,
     "metadata": {},
     "output_type": "execute_result"
    },
    {
     "data": {
      "image/png": "[encoded data removed]",
      "text/plain": [
       "<Figure size 640x480 with 1 Axes>"
      ]
     },
     "metadata": {},
     "output_type": "display_data"
    }
   ],
   "source": [
    "item_play_counts = list(item_plays.values) #.plot.hist()\n",
    "\n",
    "item_play_stats = item_plays.quantile([0.25, 0.5, 0.75])\n",
    "\n",
    "print(item_play_stats)\n",
    "\n",
    "plt.hist(item_play_counts, bins=100)\n",
    "plt.xlabel('Tracks')\n",
    "plt.ylabel('Interactions')\n",
    "plt.semilogy()"
   ]
  },
  {
   "cell_type": "code",
   "execution_count": null,
   "metadata": {},
   "outputs": [],
   "source": [
    "interaction_count.head()"
   ]
  },
  {
   "cell_type": "code",
   "execution_count": null,
   "metadata": {},
   "outputs": [],
   "source": [
    "interactions.head()"
   ]
  }
 ],
 "metadata": {
  "kernelspec": {
   "display_name": "Python 3.10.8 64-bit",
   "language": "python",
   "name": "python3"
  },
  "language_info": {
   "codemirror_mode": {
    "name": "ipython",
    "version": 3
   },
   "file_extension": ".py",
   "mimetype": "text/x-python",
   "name": "python",
   "nbconvert_exporter": "python",
   "pygments_lexer": "ipython3",
   "version": "3.10.8"
  },
  "orig_nbformat": 4,
  "vscode": {
   "interpreter": {
    "hash": "aee8b7b246df8f9039afb4144a1f6fd8d2ca17a180786b69acc140d282b71a49"
   }
  }
 },
 "nbformat": 4,
 "nbformat_minor": 2
}
