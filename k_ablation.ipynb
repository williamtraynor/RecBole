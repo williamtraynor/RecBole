{
 "cells": [
  {
   "cell_type": "code",
   "execution_count": 29,
   "metadata": {},
   "outputs": [],
   "source": [
    "import torch\n",
    "import torch.nn.functional as F\n",
    "import numpy as np\n",
    "import pandas as pd\n",
    "import matplotlib.pyplot as plt\n",
    "#import seaborn as sns"
   ]
  },
  {
   "cell_type": "code",
   "execution_count": 7,
   "metadata": {},
   "outputs": [],
   "source": [
    "df = pd.read_csv('k_ablation.csv')\n",
    "df = df.set_index(df.k)"
   ]
  },
  {
   "cell_type": "code",
   "execution_count": 8,
   "metadata": {},
   "outputs": [],
   "source": [
    "k = df.k\n",
    "ndcg = df.ndcg\n",
    "mrr = df.mrr\n",
    "recall = df.recall"
   ]
  },
  {
   "cell_type": "code",
   "execution_count": 28,
   "metadata": {},
   "outputs": [
    {
     "data": {
      "image/png": "[encoded data removed]",
      "text/plain": [
       "<Figure size 640x480 with 1 Axes>"
      ]
     },
     "metadata": {},
     "output_type": "display_data"
    }
   ],
   "source": [
    "plt.plot(k, mrr, linestyle='--', linewidth=3, label='MRR')\n",
    "plt.plot(k, ndcg, linestyle='-', linewidth=3, label='NDCG')\n",
    "plt.plot(k, recall, linestyle=':',linewidth=3, label='Recall')\n",
    "plt.grid()\n",
    "plt.legend()\n",
    "plt.xscale('log')\n",
    "plt.xlabel('K')\n",
    "plt.legend(bbox_to_anchor=(1.02, 1), loc='upper left', borderaxespad=0)\n",
    "\n",
    "plt.savefig('k_ablation.svg', format='svg', transparent=True)"
   ]
  },
  {
   "cell_type": "code",
   "execution_count": 10,
   "metadata": {},
   "outputs": [
    {
     "data": {
      "text/plain": [
       "\"sns.set_style('darkgrid') # darkgrid, white grid, dark, white and ticks\\n\\nplt.rc('axes', titlesize=18)     # fontsize of the axes title\\nplt.rc('axes', labelsize=14)    # fontsize of the x and y labels\\nplt.rc('xtick', labelsize=13)    # fontsize of the tick labels\\nplt.rc('ytick', labelsize=13)    # fontsize of the tick labels\\nplt.rc('legend', fontsize=13)    # legend fontsize\\nplt.rc('font', size=13)          # controls default text sizes\\n\\nsns.color_palette('dark')\\n\\nplt.figure(figsize=(8,4), tight_layout=True)\""
      ]
     },
     "execution_count": 10,
     "metadata": {},
     "output_type": "execute_result"
    }
   ],
   "source": [
    "'''sns.set_style('darkgrid') # darkgrid, white grid, dark, white and ticks\n",
    "\n",
    "plt.rc('axes', titlesize=18)     # fontsize of the axes title\n",
    "plt.rc('axes', labelsize=14)    # fontsize of the x and y labels\n",
    "plt.rc('xtick', labelsize=13)    # fontsize of the tick labels\n",
    "plt.rc('ytick', labelsize=13)    # fontsize of the tick labels\n",
    "plt.rc('legend', fontsize=13)    # legend fontsize\n",
    "plt.rc('font', size=13)          # controls default text sizes\n",
    "\n",
    "sns.color_palette('dark')\n",
    "\n",
    "plt.figure(figsize=(8,4), tight_layout=True)'''"
   ]
  },
  {
   "cell_type": "code",
   "execution_count": 14,
   "metadata": {},
   "outputs": [
    {
     "name": "stderr",
     "output_type": "stream",
     "text": [
      "No artists with labels found to put in legend.  Note that artists whose label start with an underscore are ignored when legend() is called with no argument.\n"
     ]
    },
    {
     "data": {
      "text/plain": [
       "<matplotlib.legend.Legend at 0x11f649db0>"
      ]
     },
     "execution_count": 14,
     "metadata": {},
     "output_type": "execute_result"
    },
    {
     "data": {
      "image/png": "[encoded data removed]",
      "text/plain": [
       "<Figure size 640x480 with 1 Axes>"
      ]
     },
     "metadata": {},
     "output_type": "display_data"
    }
   ],
   "source": [
    "#ax = sns.lineplot(df[['mrr', 'ndcg', 'recall']])\n",
    "#ax.set(xlabel='K')\n"
   ]
  },
  {
   "cell_type": "code",
   "execution_count": null,
   "metadata": {},
   "outputs": [
    {
     "name": "stderr",
     "output_type": "stream",
     "text": [
      "The PostScript backend does not support transparency; partially transparent artists will be rendered opaque.\n"
     ]
    }
   ],
   "source": [
    "fig = ax.get_figure()\n",
    "fig.savefig('k_ablation.eps', format='eps', transparent=True)"
   ]
  },
  {
   "cell_type": "code",
   "execution_count": 30,
   "metadata": {},
   "outputs": [
    {
     "name": "stdout",
     "output_type": "stream",
     "text": [
      "tensor([[4., 2., 2.],\n",
      "        [4., 1., 4.]])\n",
      "tensor([[1.0000, 0.5000, 0.5000],\n",
      "        [1.7500, 0.5000, 1.7500]])\n"
     ]
    },
    {
     "name": "stderr",
     "output_type": "stream",
     "text": [
      "/var/folders/3b/cl8g_wbn7txby5hxcfcl5zwh0000gn/T/ipykernel_7346/57274810.py:9: UserWarning: Creating a tensor from a list of numpy.ndarrays is extremely slow. Please consider converting the list to a single numpy.ndarray with numpy.array() before converting to a tensor. (Triggered internally at /Users/runner/work/pytorch/pytorch/pytorch/torch/csrc/utils/tensor_new.cpp:233.)\n",
      "  prod = torch.Tensor([rating * weights.T for rating in ratings]).type(torch.float32)\n"
     ]
    }
   ],
   "source": [
    "weights = np.array([[4,1,3],\n",
    "                    [3,1,4],\n",
    "                    [4,2,2],\n",
    "                    [5,3,1]])\n",
    "\n",
    "ratings = np.array([[0,0,1,0],\n",
    "                    [1,1,0,0]])\n",
    "\n",
    "prod = torch.Tensor([rating * weights.T for rating in ratings]).type(torch.float32)\n",
    "\n",
    "print(torch.amax(prod, axis=2))\n",
    "print(torch.mean(prod, axis=2))"
   ]
  },
  {
   "cell_type": "code",
   "execution_count": null,
   "metadata": {},
   "outputs": [],
   "source": []
  },
  {
   "cell_type": "code",
   "execution_count": null,
   "metadata": {},
   "outputs": [],
   "source": []
  },
  {
   "cell_type": "code",
   "execution_count": null,
   "metadata": {},
   "outputs": [],
   "source": []
  }
 ],
 "metadata": {
  "kernelspec": {
   "display_name": "Python 3",
   "language": "python",
   "name": "python3"
  },
  "language_info": {
   "codemirror_mode": {
    "name": "ipython",
    "version": 3
   },
   "file_extension": ".py",
   "mimetype": "text/x-python",
   "name": "python",
   "nbconvert_exporter": "python",
   "pygments_lexer": "ipython3",
   "version": "3.10.8"
  },
  "orig_nbformat": 4,
  "vscode": {
   "interpreter": {
    "hash": "aee8b7b246df8f9039afb4144a1f6fd8d2ca17a180786b69acc140d282b71a49"
   }
  }
 },
 "nbformat": 4,
 "nbformat_minor": 2
}
